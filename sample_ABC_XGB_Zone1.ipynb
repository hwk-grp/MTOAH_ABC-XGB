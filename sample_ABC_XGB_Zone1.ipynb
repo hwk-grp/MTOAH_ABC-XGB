{
 "cells": [
  {
   "cell_type": "markdown",
   "id": "8e26f66d-025d-41d3-95d7-3ca4097caf45",
   "metadata": {},
   "source": [
    "**ABC to XGB**"
   ]
  },
  {
   "cell_type": "code",
   "execution_count": 182,
   "id": "9b0303c7-0314-4483-b268-dcdfa9390498",
   "metadata": {},
   "outputs": [],
   "source": [
    "import numpy as np\n",
    "import pandas as pd\n",
    "import xgboost as xgb\n",
    "import joblib\n",
    "import sys"
   ]
  },
  {
   "cell_type": "code",
   "execution_count": 183,
   "id": "99268750-00ac-4604-a140-234073487b56",
   "metadata": {},
   "outputs": [],
   "source": [
    "nFeat= 3\n",
    "nData= 97\n",
    "ScoringModel = 3"
   ]
  },
  {
   "cell_type": "code",
   "execution_count": 184,
   "id": "3d047040-ce55-4a9d-ada9-856ba931cc9f",
   "metadata": {},
   "outputs": [],
   "source": [
    "data_raw = pd.read_csv('Data_raw/230314_Zone1.csv')"
   ]
  },
  {
   "cell_type": "code",
   "execution_count": 185,
   "id": "c12a6c83-35f2-4d70-87a7-620746404e82",
   "metadata": {},
   "outputs": [],
   "source": [
    "sol_data = np.array(pd.read_csv(\"ABC_sol/ABC.sol.%d.%d.csv\"%(nData,ScoringModel)))\n",
    "X_sol = sol_data[:,0:nFeat]"
   ]
  },
  {
   "cell_type": "code",
   "execution_count": 186,
   "id": "35ee0d8a-ad85-4b23-b886-f5b7b95579bf",
   "metadata": {},
   "outputs": [],
   "source": [
    "results = []\n",
    "for i in range (1, 7):\n",
    "    predictor = joblib.load(\"XGB_result/predictor.xgb.%d.%d.sav\"%(nData, i))\n",
    "    results.append((predictor.predict(X_sol)))\n",
    "\n",
    "results_predictor = []\n",
    "for i in range (0, 7):    \n",
    "    results_predictor.append(np.asarray(results))\n",
    "    np.savetxt(\"ABC_result/ABC.result.%d.%d.csv\"%(nData, ScoringModel), results_predictor[i].reshape(1, -1), delimiter=',', header= 'Conversion,C2 yield,C3-C4 yield,Aromatics yield,Coke yield,Hydrocarbon yield')"
   ]
  },
  {
   "cell_type": "code",
   "execution_count": null,
   "id": "8d76d183-8d09-451e-892f-153b0a01756c",
   "metadata": {},
   "outputs": [],
   "source": []
  },
  {
   "cell_type": "code",
   "execution_count": null,
   "id": "f8651942-4bad-4613-a862-6b2f5923dbc9",
   "metadata": {},
   "outputs": [],
   "source": []
  }
 ],
 "metadata": {
  "kernelspec": {
   "display_name": "Python 3 (ipykernel)",
   "language": "python",
   "name": "python3"
  },
  "language_info": {
   "codemirror_mode": {
    "name": "ipython",
    "version": 3
   },
   "file_extension": ".py",
   "mimetype": "text/x-python",
   "name": "python",
   "nbconvert_exporter": "python",
   "pygments_lexer": "ipython3",
   "version": "3.8.10"
  }
 },
 "nbformat": 4,
 "nbformat_minor": 5
}
